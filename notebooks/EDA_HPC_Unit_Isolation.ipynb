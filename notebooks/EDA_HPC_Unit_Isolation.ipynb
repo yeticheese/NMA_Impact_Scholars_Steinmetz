{
 "cells": [
  {
   "cell_type": "code",
   "metadata": {
    "execution": {},
    "id": "xalMnXHJL_Wz"
   },
   "source": [
    "import numpy as np\n",
    "import matplotlib.pyplot as plt\n",
    "import os\n",
    "import pandas as pd\n",
    "import emd\n",
    "import tarfile\n",
    "import io\n",
    "import scipy\n",
    "from scipy import signal\n",
    "from icecream import ic\n",
    "import neurodsp.filt as dsp\n",
    "import seaborn as sns\n",
    "import plotly.express as px\n",
    "import plotly.graph_objs as go"
   ],
   "outputs": [],
   "execution_count": null
  },
  {
   "metadata": {},
   "cell_type": "markdown",
   "source": [
    "# Directories\n",
    "Set the working directory as well as access to the main LFP dataset and supplementary dataset"
   ]
  },
  {
   "cell_type": "code",
   "metadata": {
    "cellView": "form",
    "execution": {},
    "id": "zGp78Gb2L_W0"
   },
   "source": [
    "# Set the current working directory\n",
    "cwd = os.chdir(r\"C:\\Python Work Directory\\NMA_Impact_Scholars_Steinmetz\")\n",
    "\n",
    "# Access to the Steinmetz LFP dataset\n",
    "# lfp_dat = r\"E:\\Steinmetz_Dataset\"\n",
    "lfp_dat  = r\"C:\\Python Work Directory\\NMA_Impact_Scholars_Steinmetz\\data\\examples\"\n",
    "\n",
    "# @title Data retrieval\n",
    "data_directory = r'data\\spikeAndBehavioralData'\n",
    "\n",
    "# test_dataset\n",
    "test_LFP = r\"Cori_2016-12-18\""
   ],
   "outputs": [],
   "execution_count": null
  },
  {
   "metadata": {},
   "cell_type": "code",
   "source": "print(os.path.join(os.getcwd(),data_directory))",
   "outputs": [],
   "execution_count": null
  },
  {
   "metadata": {},
   "cell_type": "markdown",
   "source": "## Brain Regions of Interest"
  },
  {
   "metadata": {},
   "cell_type": "code",
   "source": [
    "hpc = [\"CA1\", \"CA3\", \"DG\", \"SUB\"]\n",
    "pfc = [\"ACA\", \"ILA\", \"PL\",\"RSP\"]\n",
    "region_loop = hpc + pfc\n",
    "region_select = 'CA1'"
   ],
   "outputs": [],
   "execution_count": null
  },
  {
   "metadata": {},
   "cell_type": "markdown",
   "source": "## Power spectrum functions"
  },
  {
   "metadata": {},
   "cell_type": "markdown",
   "source": "### Defining file iterator (for later use)"
  },
  {
   "metadata": {},
   "cell_type": "code",
   "source": [
    "walker = os.walk(os.path.join(os.getcwd(),data_directory))\n",
    "for root, dirs, files in walker:\n",
    "    print(root)\n",
    "    print(dirs)\n",
    "    print(files)"
   ],
   "outputs": [],
   "execution_count": null
  },
  {
   "metadata": {},
   "cell_type": "markdown",
   "source": "### .npy file loader from tarball"
  },
  {
   "metadata": {},
   "cell_type": "code",
   "source": [
    "def npy_loader(filename:str)-> np.ndarray:\n",
    "    '''\n",
    "    Numpy loader function for .npy in tarball (.tar) packages.\n",
    "    \n",
    "    :param filename: str\n",
    "    :return: np.ndarray \n",
    "    '''\n",
    "    try:\n",
    "        npy_file = tar.extractfile(filename)\n",
    "        if npy_file is not None:\n",
    "            npy_file_content = npy_file.read()\n",
    "            \n",
    "            # Check file size to confirm it's not empty or corrupted\n",
    "            if len(npy_file_content) == 0:\n",
    "                raise ValueError(f\"The .npy file '{filename}' is empty or corrupted.\")\n",
    "            \n",
    "            # Load .npy file from memory using BytesIO\n",
    "            np_data = np.load(io.BytesIO(npy_file_content))\n",
    "            return np_data\n",
    "        else:\n",
    "            raise FileNotFoundError(f\"Could not find or extract the file: {probe_filename}\")\n",
    "    except Exception as e:\n",
    "        print(f\"Error reading .npy file: {e}\")\n",
    "    "
   ],
   "outputs": [],
   "execution_count": null
  },
  {
   "metadata": {},
   "cell_type": "code",
   "source": [
    "alldata_tar_path = os.path.join(os.getcwd(),data_directory,test_LFP + r\".tar\")\n",
    "with tarfile.open(alldata_tar_path, 'r') as tar:\n",
    "    print(tar.getnames())\n",
    "    \n",
    "    brain_loc_filename = [name for name in tar.getnames()[:5] if name.endswith('.tsv')][0]\n",
    "    probe_desc_filename = [name for name in tar.getnames() if name.endswith('rawFilename.tsv')][0]\n",
    "    probe_filename = [name for name in tar.getnames() if name.endswith('channels.probe.npy')][0]\n",
    "    raw_Row_filename = [name for name in tar.getnames() if name.endswith('channels.rawRow.npy')][0]\n",
    "    site_filename = [name for name in tar.getnames() if name.endswith('channels.site.npy')][0]\n",
    "    site_pos_filename = [name for name in tar.getnames() if name.endswith('channels.sitePositions.npy')][0]\n",
    "    \n",
    "    \n",
    "    brain_loc = pd.read_csv(tar.extractfile(brain_loc_filename), sep='\\t')\n",
    "    probe_desc = pd.read_csv(tar.extractfile(probe_desc_filename), sep='\\t')\n",
    "    probe = npy_loader(probe_filename)\n",
    "    raw_Row = npy_loader(raw_Row_filename)\n",
    "    site = npy_loader(site_filename)\n",
    "    site_pos = npy_loader(site_pos_filename)\n",
    "    \n",
    "    "
   ],
   "outputs": [],
   "execution_count": null
  },
  {
   "metadata": {},
   "cell_type": "code",
   "source": "brain_loc.shape",
   "outputs": [],
   "execution_count": null
  },
  {
   "metadata": {},
   "cell_type": "code",
   "source": "brain_loc.query(f'allen_ontology == \"{region_select}\"')",
   "outputs": [],
   "execution_count": null
  },
  {
   "metadata": {},
   "cell_type": "code",
   "source": "probe_desc",
   "outputs": [],
   "execution_count": null
  },
  {
   "metadata": {},
   "cell_type": "code",
   "source": [
    "brain_loc['probe'] = probe\n",
    "brain_loc['site'] = site\n",
    "brain_loc[['site_pos_x','site_pos_y']] = site_pos\n",
    "brain_loc['raw_Row'] = raw_Row"
   ],
   "outputs": [],
   "execution_count": null
  },
  {
   "metadata": {},
   "cell_type": "code",
   "source": "brain_loc.query(f'allen_ontology == \"{region_select}\"') ",
   "outputs": [],
   "execution_count": null
  },
  {
   "metadata": {},
   "cell_type": "markdown",
   "source": "## Discovering the Channel Labelling Scheme"
  },
  {
   "metadata": {},
   "cell_type": "code",
   "source": [
    "# Create the scatter plot using Plotly Express\n",
    "fig = px.scatter(brain_loc.query('probe == 0'),\n",
    "                 x='site_pos_x',\n",
    "                 y='site_pos_y',\n",
    "                 color='site',\n",
    "                 title='Brain Location Scatter Plot',\n",
    "                 width=1200,  # Equivalent to figsize=(20,10)\n",
    "                 height=600)\n",
    "\n",
    "# Customize the layout if needed\n",
    "fig.update_layout(\n",
    "    title_x=0.5,  # Center the title\n",
    "    legend_title_text='Site',\n",
    "    # Add any additional layout customizations here\n",
    ")\n",
    "\n",
    "# Show the plot\n",
    "fig.show()"
   ],
   "outputs": [],
   "execution_count": null
  },
  {
   "metadata": {},
   "cell_type": "code",
   "source": [
    "# Create the scatter plot using Plotly Express\n",
    "fig = px.scatter(brain_loc.query('probe == 0'),\n",
    "                 x='site_pos_x',\n",
    "                 y='site_pos_y',\n",
    "                 color='allen_ontology',\n",
    "                 title='Brain Location Scatter Plot',\n",
    "                 width=1200,  # Equivalent to figsize=(20,10)\n",
    "                 height=600)\n",
    "\n",
    "# Customize the layout if needed\n",
    "fig.update_layout(\n",
    "    title_x=0.5,  # Center the title\n",
    "    legend_title_text='Site',\n",
    "    # Add any additional layout customizations here\n",
    ")\n",
    "\n",
    "# Show the plot\n",
    "fig.show()"
   ],
   "outputs": [],
   "execution_count": null
  },
  {
   "metadata": {},
   "cell_type": "markdown",
   "source": [
    "### Probe Selection\n",
    "\n",
    "Select the necessary probes that have recording sites of our brain regions of interest"
   ]
  },
  {
   "metadata": {},
   "cell_type": "code",
   "source": [
    "# Identify probe for CA1\n",
    "probe_select = brain_loc.query(f'allen_ontology == \"{region_select}\"')['probe'].unique() == np.array(probe_desc.index)"
   ],
   "outputs": [],
   "execution_count": null
  },
  {
   "metadata": {},
   "cell_type": "code",
   "source": [
    "#TODO: Build a dataset loader that interacts with the online database\n",
    "\n",
    "# Path to your .tar file\n",
    "\n",
    "\n",
    "tar_path = os.path.join(lfp_dat,test_LFP + r\"_lfp.tar\")\n",
    "\n",
    "\n",
    "\n",
    "# Define the parameters based on the documentation\n",
    "num_channels = 385  # 385 channels as specified\n",
    "data_type = np.int16  # int16 data type\n",
    "sampling_rate = 2500  # 2500 Hz sampling rate\n",
    "\n",
    "# Open the .tar file and load the .bin file\n",
    "with tarfile.open(tar_path, 'r') as tar:\n",
    "    # Identify the .bin file (assuming there's only one)\n",
    "    bin_file_name = np.array(tar.getnames())[probe_select][0]\n",
    "    \n",
    "    \n",
    "    # Extract the .bin file to memory\n",
    "    bin_file = tar.extractfile(bin_file_name)\n",
    "    \n",
    "    # Determine the number of samples by dividing the file size by the number of channels\n",
    "    # and the size of each data point (2 bytes for int16)\n",
    "    file_size = tar.getmember(bin_file_name).size\n",
    "    num_samples = file_size // (num_channels * np.dtype(data_type).itemsize)\n",
    "    \n",
    "    # Read the .bin file in chunks if it's too large for memory\n",
    "    chunk_size = 1000000  # Set a reasonable chunk size\n",
    "    all_data = []\n",
    "    \n",
    "    while True:\n",
    "        # Read a chunk of data\n",
    "        data_chunk = np.frombuffer(bin_file.read(chunk_size * num_channels * np.dtype(data_type).itemsize), dtype=data_type)\n",
    "        if data_chunk.size == 0:\n",
    "            break\n",
    "        # Reshape the chunk to (num_channels, chunk_samples)\n",
    "        data_chunk = data_chunk.reshape(-1, num_channels).T\n",
    "        all_data.append(data_chunk)\n",
    "    \n",
    "    # Concatenate all chunks if the entire data needs to be loaded\n",
    "    reshaped_data = np.hstack(all_data)\n",
    "\n",
    "# At this point, reshaped_data contains the LFP data in shape (385, num_total_samples)"
   ],
   "outputs": [],
   "execution_count": null
  },
  {
   "metadata": {},
   "cell_type": "code",
   "source": "ic(reshaped_data.shape)",
   "outputs": [],
   "execution_count": null
  },
  {
   "metadata": {},
   "cell_type": "markdown",
   "source": [
    "## Synchronization Signal Channel\n",
    "When plotting Channel 385, we can observe that this channel contains our time events of stimulus being presented"
   ]
  },
  {
   "metadata": {},
   "cell_type": "code",
   "source": [
    "sampling_rate = 2500\n",
    "total_time = reshaped_data.shape[1]/sampling_rate\n",
    "time_points = np.linspace(0,total_time, reshaped_data.shape[1])\n",
    "time_points_ms = time_points*1000\n",
    "\n",
    "sync_signal_fig = px.line(\n",
    "    x=time_points_ms[:1000000],\n",
    "    y=reshaped_data[-1,:1000000],\n",
    "    labels={'x': 'Time (ms)', 'y': 'Amplitude (μV)'},\n",
    "    title='Synchronization Signal Time Series'\n",
    ")\n",
    "\n",
    "sync_signal_fig.show()"
   ],
   "outputs": [],
   "execution_count": null
  },
  {
   "metadata": {},
   "cell_type": "markdown",
   "source": "### Plot of a random CA1 channel"
  },
  {
   "metadata": {},
   "cell_type": "code",
   "source": [
    "CA1_signal_fig = px.line(\n",
    "    x=time_points_ms[:1000000],\n",
    "    y=reshaped_data[-233,:1000000],\n",
    "    labels={'x': 'Time (ms)', 'y': 'Amplitude (μV)'},\n",
    "    title='CA1, Channel 233 Signal Time Series'\n",
    ")\n",
    "\n",
    "CA1_signal_fig.show()"
   ],
   "outputs": [],
   "execution_count": null
  },
  {
   "metadata": {},
   "cell_type": "markdown",
   "source": "### Power Spectrum of CA1\n"
  },
  {
   "metadata": {},
   "cell_type": "code",
   "source": "select_channels = reshaped_data[brain_loc.query(f'allen_ontology == \"{region_select}\"')['raw_Row'].unique()]",
   "outputs": [],
   "execution_count": null
  },
  {
   "metadata": {},
   "cell_type": "code",
   "source": "freqs, pspec = signal.welch(x = select_channels, fs = 2500, scaling = 'spectrum', nperseg = 4*1024)",
   "outputs": [],
   "execution_count": null
  },
  {
   "metadata": {},
   "cell_type": "code",
   "source": [
    "print(pspec[1].shape)\n",
    "\n",
    "# Create the figure\n",
    "fig = go.Figure(\n",
    "    data=go.Scatter(\n",
    "        x=freqs,  # x-axis as index if no specific frequency array\n",
    "        y=pspec,  # power spectrum values\n",
    "        mode='lines',\n",
    "        line=dict(color='blue')\n",
    "    )\n",
    ")\n",
    "\n",
    "# Customize layout\n",
    "fig.update_layout(\n",
    "    title='Power Spectrum',\n",
    "    width=1200,  # Approximates 20 inches\n",
    "    height=600,  # Approximates 10 inches\n",
    "    xaxis_title='Frequency (Hz)',\n",
    "    yaxis_title='Power',\n",
    "    yaxis_type='log'  # Equivalent to semilogy\n",
    ")\n",
    "\n",
    "# Display the plot\n",
    "fig.show()"
   ],
   "outputs": [],
   "execution_count": null
  },
  {
   "metadata": {},
   "cell_type": "code",
   "source": "plot_power_spectrum(reshaped_data[233,:],2500,scaling='spectrum')",
   "outputs": [],
   "execution_count": null
  },
  {
   "metadata": {},
   "cell_type": "code",
   "source": "plot_power_spectrum(reshaped_data[0,:],2500)",
   "outputs": [],
   "execution_count": null
  },
  {
   "metadata": {},
   "cell_type": "code",
   "source": [
    "# Retrieves the reference to subtract from the signal\n",
    "def CAR_filter(signal, mode ='mean'):\n",
    "    avg_ref = np.zeros((signal.shape[0],1))\n",
    "    if mode == 'mean':\n",
    "        avg_ref = np.mean(signal,axis=0)\n",
    "    if mode == 'median':\n",
    "        avg_ref = np.median(signal,axis=0)\n",
    "    return avg_ref"
   ],
   "outputs": [],
   "execution_count": null
  },
  {
   "metadata": {},
   "cell_type": "code",
   "source": "avg_ref = CAR_filter(reshaped_data[:-1], mode='median')",
   "outputs": [],
   "execution_count": null
  },
  {
   "metadata": {},
   "cell_type": "markdown",
   "source": [
    "### Selecting regions of interests\n",
    "We would like to look at CA1 region in the hippocampus as an exercise first"
   ]
  },
  {
   "metadata": {},
   "cell_type": "code",
   "source": "select_channels = reshaped_data[brain_loc.query(f'allen_ontology == \"{region_select}\"')['raw_Row'].unique()] - avg_ref\n",
   "outputs": [],
   "execution_count": null
  },
  {
   "metadata": {},
   "cell_type": "code",
   "source": "freqs, power_spectrum = plot_brain_power_spectrum(select_channels,2500, nperseg=4*1024, scaling='spectrum', norm=False)",
   "outputs": [],
   "execution_count": null
  },
  {
   "metadata": {},
   "cell_type": "code",
   "source": [
    "print(freqs.shape)\n",
    "print(power_spectrum.shape)"
   ],
   "outputs": [],
   "execution_count": null
  },
  {
   "metadata": {},
   "cell_type": "code",
   "source": "print(select_channels.shape)",
   "outputs": [],
   "execution_count": null
  },
  {
   "metadata": {},
   "cell_type": "code",
   "source": [
    "plt.gcf().set_size_inches(20, 10)\n",
    "for psd in power_spectrum:\n",
    "    plt.semilogy(freqs,psd)\n",
    "plt.ylabel('Power')\n",
    "plt.xlabel('Frequency (Hz)')"
   ],
   "outputs": [],
   "execution_count": null
  },
  {
   "metadata": {},
   "cell_type": "code",
   "source": "print(np.mean(select_channels,axis=0).shape)",
   "outputs": [],
   "execution_count": null
  },
  {
   "metadata": {},
   "cell_type": "markdown",
   "source": "### CA1 Channels Mean and Standard Deviations"
  },
  {
   "metadata": {},
   "cell_type": "code",
   "source": [
    "plt.figure(figsize=(20,5))\n",
    "plt.plot(np.mean(select_channels,axis=0)[:2500], linestyle='dashed', color='blue')\n",
    "plt.fill_between(range(len(np.mean(select_channels,axis=0)[:2500])), np.mean(select_channels,axis=0)[:2500]+2*np.std(select_channels,axis=0)[:2500],np.mean(select_channels,axis=0)[:2500]-2*np.std(select_channels,axis=0)[:2500],alpha=0.3)"
   ],
   "outputs": [],
   "execution_count": null
  },
  {
   "metadata": {},
   "cell_type": "code",
   "source": [
    "# A highpass filter to isolate higher frequencies in each channel\n",
    "\n",
    "select_filtered_channels = dsp.filter_signal(select_channels,2500,'highpass',(150,250), filter_type='iir',butterworth_order=3)\n"
   ],
   "outputs": [],
   "execution_count": null
  },
  {
   "metadata": {},
   "cell_type": "code",
   "source": "print(select_filtered_channels.shape)",
   "outputs": [],
   "execution_count": null
  },
  {
   "metadata": {},
   "cell_type": "markdown",
   "source": "### Comparison of a raw CA1 LFP with respect to higher frequencies"
  },
  {
   "metadata": {},
   "cell_type": "code",
   "source": [
    "plt.figure(figsize=(20,5))\n",
    "plt.plot(select_channels[0,:2500])\n",
    "plt.plot(select_filtered_channels[0,:2500])\n",
    "plt.xlabel('Samples')\n",
    "plt.ylabel('Amplitude (uV)')"
   ],
   "outputs": [],
   "execution_count": null
  },
  {
   "metadata": {},
   "cell_type": "code",
   "source": [
    "plt.figure(figsize=(20,5))\n",
    "plt.plot(np.mean(select_filtered_channels,axis=0)[:2500],linestyle='dashed', color='blue')\n",
    "plt.fill_between(range(len(np.mean(select_filtered_channels,axis=0)[:2500])), np.mean(select_filtered_channels,axis=0)[:2500]+2*np.std(select_filtered_channels,axis=0)[:2500],np.mean(select_filtered_channels,axis=0)[:2500]-2*np.std(select_filtered_channels,axis=0)[:2500],alpha=0.3)\n",
    "plt.xlabel('Samples')\n",
    "plt.ylabel('Amplitude (uV)')"
   ],
   "outputs": [],
   "execution_count": null
  },
  {
   "metadata": {},
   "cell_type": "code",
   "source": [
    "# Root mean square function for calculating max ripple power\n",
    "def rms (signal):\n",
    "    rms = np.sqrt(np.mean(np.square(signal),axis=1))\n",
    "    return rms"
   ],
   "outputs": [],
   "execution_count": null
  },
  {
   "metadata": {},
   "cell_type": "code",
   "source": "ripple_power = rms(select_filtered_channels)",
   "outputs": [],
   "execution_count": null
  },
  {
   "metadata": {},
   "cell_type": "code",
   "source": [
    "optimum_channel = np.where(ripple_power==np.max(ripple_power))[0][0]\n",
    "print(optimum_channel)"
   ],
   "outputs": [],
   "execution_count": null
  },
  {
   "metadata": {},
   "cell_type": "markdown",
   "source": "### Power spectrum after selecting the best HPC channel"
  },
  {
   "metadata": {},
   "cell_type": "code",
   "source": "plot_power_spectrum(select_channels[optimum_channel,:],2500)",
   "outputs": [],
   "execution_count": null
  },
  {
   "metadata": {},
   "cell_type": "code",
   "source": [
    "# Lowpass filter to cutoff frequencies above 200 Hz\n",
    "\n",
    "filtered_LFP = dsp.filter_signal(select_channels[optimum_channel],2500,'lowpass',(None,200), filter_type='iir',butterworth_order=4)"
   ],
   "outputs": [],
   "execution_count": null
  },
  {
   "metadata": {},
   "cell_type": "code",
   "source": [
    "fig_CA1,ax_CA1 = plt.subplots(4,1,figsize=(20,15), sharex=True)\n",
    "ax_CA1[0].plot(select_channels[0, :2500])\n",
    "ax_CA1[0].title.set_text('CA1 top site')\n",
    "ax_CA1[1].plot(select_channels[optimum_channel, :2500])\n",
    "ax_CA1[1].title.set_text('CA1 probe site 251')\n",
    "ax_CA1[2].plot(filtered_LFP[:2500])\n",
    "ax_CA1[2].title.set_text('Low-Pass filtered site 251')\n",
    "ax_CA1[3].plot(select_channels[0, :2500])\n",
    "ax_CA1[3].title.set_text('CA1 bottom site')\n",
    "plt.xlabel('Samples')\n",
    "plt.ylabel('Amplitude (uV)')"
   ],
   "outputs": [],
   "execution_count": null
  },
  {
   "metadata": {},
   "cell_type": "code",
   "source": "np.savez(os.path.join(lfp_dat,test_LFP + r\"_CH251\"), data = select_channels[optimum_channel,:])",
   "outputs": [],
   "execution_count": null
  },
  {
   "metadata": {},
   "cell_type": "code",
   "source": [
    "new_sig = np.load(os.path.join(lfp_dat,test_LFP + r\"_CH251.npz\"))['data']\n",
    "print(new_sig.shape)\n",
    "                  "
   ],
   "outputs": [],
   "execution_count": null
  },
  {
   "metadata": {},
   "cell_type": "code",
   "source": "plot_power_spectrum(filtered_LFP,2500)",
   "outputs": [],
   "execution_count": null
  },
  {
   "metadata": {},
   "cell_type": "code",
   "source": [
    "# Import Theta Cycle Extraction and Data Management Class Functions\n",
    "from src.signal import *\n",
    "from src.functions import peak_cog, fpp_peaks\n"
   ],
   "outputs": [],
   "execution_count": null
  },
  {
   "metadata": {},
   "cell_type": "code",
   "source": [
    "# Intialize with selecting the optimum channel RAW LFP\n",
    "wake_test_one = WakeSignal(select_channels[optimum_channel],2500,(5,12))"
   ],
   "outputs": [],
   "execution_count": null
  },
  {
   "metadata": {},
   "cell_type": "code",
   "source": "print(wake_test_one.mask_freq)",
   "outputs": [],
   "execution_count": null
  },
  {
   "metadata": {},
   "cell_type": "code",
   "source": "emd.plotting.plot_imfs(wake_test_one.imf[2500:5000])",
   "outputs": [],
   "execution_count": null
  },
  {
   "metadata": {},
   "cell_type": "code",
   "source": [
    "sub, theta, gamma = tg_split(wake_test_one.mask_freq,wake_test_one.freq_range)\n",
    "print(theta)"
   ],
   "outputs": [],
   "execution_count": null
  },
  {
   "metadata": {},
   "cell_type": "code",
   "source": "wake_test_one.frequency_transform('hilbert')",
   "outputs": [],
   "execution_count": null
  },
  {
   "metadata": {},
   "cell_type": "code",
   "source": [
    "fig_freq,ax_freq=plt.subplots(1,2,figsize=(15,5))\n",
    "colors = ['blue','green','red', 'yellow']\n",
    "## Iterated Mask Sift \n",
    "for i, thet in enumerate(wake_test_one.mask_freq[theta]):\n",
    "    ax_freq[0].hist(wake_test_one.IA.T[theta][i],bins=100,edgecolor='none',alpha=0.3 + (0.2*i),color= colors[i],label = str(np.round(thet,2))+ 'Hz',density=True)\n",
    "ax_freq[0].legend(loc='upper right')\n",
    "\n",
    "for j, gam in enumerate(wake_test_one.mask_freq[gamma]):\n",
    "    ax_freq[1].hist(wake_test_one.IA.T[gamma][j],bins=100,edgecolor='none',alpha=0.3 + (0.2*j),color=colors[j],label = str(np.round(gam,2))+ 'Hz',density=True)\n",
    "ax_freq[1].legend(loc='upper right')\n",
    "\n",
    "ax_freq[0].set_title(' Theta Instantaneous Amplitude Distribution')\n",
    "ax_freq[1].set_title('Gamma Instantaneous Amplitude Distribution')\n",
    "ax_freq[0].set_xlabel(r'Amplitude (uV)')\n",
    "ax_freq[1].set_xlabel(r'Amplitude (uV)')\n",
    "fig_freq.suptitle('Raw Amplitude Distribution Across imfs')\n",
    "fig_freq.savefig(os.path.join(os.getcwd(),r'figures',f'{region_select}_RawAmplitude_Distribution.png'))"
   ],
   "outputs": [],
   "execution_count": null
  },
  {
   "metadata": {},
   "cell_type": "code",
   "source": [
    "# Extract cycles that satisfy thresholds\n",
    "fpp_cycles_one = wake_test_one.get_fpp_cycles(frequencies=(15,120), band = 'gamma', norm='zscore', mode = 'power')"
   ],
   "outputs": [],
   "execution_count": null
  },
  {
   "metadata": {},
   "cell_type": "code",
   "source": "print(fpp_cycles_one.shape)",
   "outputs": [],
   "execution_count": null
  },
  {
   "metadata": {},
   "cell_type": "code",
   "source": [
    "# Intialize with selecting the optimum channel RAW LFP minus the high frequency components using EMD\n",
    "wake_test_two = WakeSignal(np.sum(wake_test_one.imf[:,1:],axis=1),2500,(5,12))"
   ],
   "outputs": [],
   "execution_count": null
  },
  {
   "metadata": {},
   "cell_type": "code",
   "source": "print(wake_test_two.mask_freq)",
   "outputs": [],
   "execution_count": null
  },
  {
   "metadata": {},
   "cell_type": "code",
   "source": "emd.plotting.plot_imfs(wake_test_two.imf[2500:5000])",
   "outputs": [],
   "execution_count": null
  },
  {
   "metadata": {},
   "cell_type": "code",
   "source": "wake_test_two.frequency_transform('hilbert')",
   "outputs": [],
   "execution_count": null
  },
  {
   "metadata": {},
   "cell_type": "code",
   "source": "sub, theta, gamma = tg_split(wake_test_two.mask_freq,wake_test_two.freq_range)",
   "outputs": [],
   "execution_count": null
  },
  {
   "metadata": {},
   "cell_type": "code",
   "source": [
    "fig_freq2, ax_freq2 = plt.subplots(1, 2, figsize=(15, 5))\n",
    "colors = ['blue', 'green', 'red']\n",
    "## Iterated Mask Sift \n",
    "for i, thet in enumerate(wake_test_two.mask_freq[theta]):\n",
    "    ax_freq2[0].hist(wake_test_two.IA.T[theta][i], bins=100, edgecolor='none', alpha=0.3 + (0.2 * i), color=colors[i],\n",
    "                    label=str(np.round(thet, 2)) + 'Hz', density=True)\n",
    "ax_freq2[0].legend(loc='upper right')\n",
    "\n",
    "for j, gam in enumerate(wake_test_two.mask_freq[gamma]):\n",
    "    ax_freq2[1].hist(wake_test_two.IA.T[gamma][j], bins=100, edgecolor='none', alpha=0.3 + (0.2 * j), color=colors[j],\n",
    "                    label=str(np.round(gam, 2)) + 'Hz', density=True)\n",
    "ax_freq2[1].legend(loc='upper right')\n",
    "\n",
    "ax_freq2[0].set_title(' Theta Instantaneous Amplitude Distribution')\n",
    "ax_freq2[1].set_title('Gamma Instantaneous Amplitude Distribution')\n",
    "ax_freq2[0].set_xlabel(r'Amplitude (uV)')\n",
    "ax_freq2[1].set_xlabel(r'Amplitude (uV)')\n",
    "fig_freq2.suptitle('High Freq Removal Amplitude Distribution Across imfs')\n",
    "fig_freq2.savefig(os.path.join(os.getcwd(),r'figures',f'{region_select}_HighFreqRemovalAmplitude_Distribution.png'))"
   ],
   "outputs": [],
   "execution_count": null
  },
  {
   "metadata": {},
   "cell_type": "code",
   "source": "fpp_cycles_two = wake_test_two.get_fpp_cycles(frequencies=(15,120), band = 'gamma',norm='zscore', mode = 'power')",
   "outputs": [],
   "execution_count": null
  },
  {
   "metadata": {},
   "cell_type": "code",
   "source": [
    "# Intialize with selecting the using low pass filtered LFP\n",
    "wake_test_three = WakeSignal(filtered_LFP,2500,(5,12))\n",
    "fpp_cycles_three = wake_test_three.get_fpp_cycles(frequencies=(15,120), band = 'gamma', norm='zscore', mode = 'power')"
   ],
   "outputs": [],
   "execution_count": null
  },
  {
   "metadata": {},
   "cell_type": "code",
   "source": "print(wake_test_three.mask_freq)",
   "outputs": [],
   "execution_count": null
  },
  {
   "metadata": {},
   "cell_type": "code",
   "source": "wake_test_three.frequency_transform('hilbert')",
   "outputs": [],
   "execution_count": null
  },
  {
   "metadata": {},
   "cell_type": "code",
   "source": "sub, theta, gamma = tg_split(wake_test_three.mask_freq,wake_test_three.freq_range)",
   "outputs": [],
   "execution_count": null
  },
  {
   "metadata": {},
   "cell_type": "code",
   "source": [
    "fig_freq3, ax_freq3 = plt.subplots(1, 2, figsize=(15, 5))\n",
    "colors = ['blue', 'green', 'red']\n",
    "## Iterated Mask Sift \n",
    "for i, thet in enumerate(wake_test_three.mask_freq[theta]):\n",
    "    ax_freq3[0].hist(wake_test_three.IA.T[theta][i], bins=100, edgecolor='none', alpha=0.3 + (0.2 * i), color=colors[i],\n",
    "                    label=str(np.round(thet, 2)) + 'Hz', density=True)\n",
    "ax_freq3[0].legend(loc='upper right')\n",
    "\n",
    "for j, gam in enumerate(wake_test_three.mask_freq[gamma]):\n",
    "    ax_freq3[1].hist(wake_test_three.IA.T[gamma][j], bins=100, edgecolor='none', alpha=0.3 + (0.2 * j), color=colors[j],\n",
    "                    label=str(np.round(gam, 2)) + 'Hz', density=True)\n",
    "ax_freq3[1].legend(loc='upper right')\n",
    "\n",
    "ax_freq3[0].set_title(' Theta Instantaneous Amplitude Distribution')\n",
    "ax_freq3[1].set_title('Gamma Instantaneous Amplitude Distribution')\n",
    "ax_freq3[0].set_xlabel(r'Amplitude (uV)')\n",
    "ax_freq3[1].set_xlabel(r'Amplitude (uV)')\n",
    "fig_freq3.suptitle('Raw Amplitude Distribution Across imfs')\n",
    "fig_freq3.savefig(os.path.join(os.getcwd(),r'figures',f'{region_select}_LowPassFiltAmplitude_Distribution.png'))"
   ],
   "outputs": [],
   "execution_count": null
  },
  {
   "metadata": {},
   "cell_type": "code",
   "source": [
    "# Generate center of gravity peaks for each cycle\n",
    "peaks_one = wake_test_one.peak_center_of_gravity(frequencies=(15,120), band = 'gamma', norm='zscore', mode = 'power')\n",
    "peaks_two = wake_test_two.peak_center_of_gravity(frequencies=(15,120), band = 'gamma', norm='zscore', mode = 'power')\n",
    "peaks_three = wake_test_three.peak_center_of_gravity(frequencies=(15,120), band = 'gamma', norm='zscore', mode = 'power')"
   ],
   "outputs": [],
   "execution_count": null
  },
  {
   "metadata": {},
   "cell_type": "code",
   "source": [
    "# Generate all peaks from FPP topology\n",
    "fpp_peaks_one = wake_test_one.get_fpp_peaks(frequencies=(15,120))\n",
    "fpp_peaks_two = wake_test_two.get_fpp_peaks(frequencies=(15,120))\n",
    "fpp_peaks_three = wake_test_three.get_fpp_peaks(frequencies=(15,120))"
   ],
   "outputs": [],
   "execution_count": null
  },
  {
   "metadata": {},
   "cell_type": "code",
   "source": [
    "print(fpp_cycles_two.shape)\n",
    "print(fpp_cycles_three.shape)"
   ],
   "outputs": [],
   "execution_count": null
  },
  {
   "metadata": {},
   "cell_type": "code",
   "source": [
    "frequencies = np.arange(15,121,1)\n",
    "angles = np.linspace(-180,180,19)\n",
    "print(angles)"
   ],
   "outputs": [],
   "execution_count": null
  },
  {
   "metadata": {},
   "cell_type": "code",
   "source": [
    "index = 12384\n",
    "fig,ax = plt.subplots(1,3,figsize=(15,8), sharey=True)\n",
    "ax[0].set_ylabel('Frequency (Hz)')\n",
    "ax[0].contourf(angles,frequencies,fpp_cycles_one[index,:,:], vmin=-2, vmax=6,cmap ='viridis')\n",
    "ax[0].scatter(fpp_peaks_one[index][:,1],fpp_peaks_one[index][:,0], color='blue')\n",
    "ax[0].scatter(peaks_one[index,1],peaks_one[index,0], color='red',marker='+',s=50)\n",
    "ax[1].contourf(angles,frequencies,fpp_cycles_two[index,:,:], vmin=-2, vmax=6,cmap ='viridis')\n",
    "ax[1].scatter(fpp_peaks_two[index][:,1],fpp_peaks_two[index][:,0], color='blue')\n",
    "ax[1].scatter(peaks_two[index,1],peaks_two[index,0], color='red', marker='+',s=50)\n",
    "ax[2].contourf(angles,frequencies,fpp_cycles_three[index,:,:], vmin=-2, vmax=6,cmap ='viridis')\n",
    "ax[2].scatter(fpp_peaks_three[index][:,1],fpp_peaks_three[index][:,0], color='blue')\n",
    "ax[2].scatter(peaks_three[index,1],peaks_three[index,0], color='red', marker='+',s=50)\n",
    "ax[0].set_xlabel('Phase (degrees)')\n",
    "ax[1].set_xlabel('Phase (degrees)')\n",
    "ax[2].set_xlabel('Phase (degrees)')\n",
    "plt.tight_layout()"
   ],
   "outputs": [],
   "execution_count": null
  },
  {
   "metadata": {},
   "cell_type": "code",
   "source": "",
   "outputs": [],
   "execution_count": null
  },
  {
   "metadata": {},
   "cell_type": "code",
   "source": [
    "spectral_signatures_one = np.mean(fpp_cycles_one,axis=2)\n",
    "spectral_signatures_two = np.mean(fpp_cycles_two,axis=2)\n",
    "spectral_signatures_three = np.mean(fpp_cycles_three,axis=2)"
   ],
   "outputs": [],
   "execution_count": null
  },
  {
   "metadata": {},
   "cell_type": "code",
   "source": [
    "peaks_one_df = pd.DataFrame(columns=['frequency','phase'])\n",
    "peaks_one_df['frequency'] = peaks_one[:,0]\n",
    "peaks_one_df['phase'] = peaks_one[:,1]\n",
    "g = sns.JointGrid(data=peaks_one_df, x=\"phase\", y=\"frequency\")\n",
    "g = g.plot_joint(sns.kdeplot)\n",
    "g = g.plot_marginals(sns.kdeplot, fill=True)\n",
    "g.fig.suptitle(\"CoG Gamma Frequency Density Plot of Theta Cycles Raw LFPs\")\n",
    "g.fig.subplots_adjust(top=0.9)\n",
    "g.savefig(os.path.join(os.getcwd(),r'figures',f'{region_select}_CoG_Raw.png'))"
   ],
   "outputs": [],
   "execution_count": null
  },
  {
   "metadata": {},
   "cell_type": "code",
   "source": [
    "peaks_two_df = pd.DataFrame(columns=['frequency','phase'])\n",
    "peaks_two_df['frequency'] = peaks_two[:,0]\n",
    "peaks_two_df['phase'] = peaks_two[:,1]\n",
    "g = sns.JointGrid(data=peaks_two_df, x=\"phase\", y=\"frequency\")\n",
    "g = g.plot_joint(sns.kdeplot)\n",
    "g = g.plot_marginals(sns.kdeplot, fill=True)\n",
    "g.fig.suptitle(\"CoG Gamma Frequency Density Plot of Theta Cycles IMF High Freq removal\")\n",
    "g.fig.subplots_adjust(top=0.9)\n",
    "g.savefig(os.path.join(os.getcwd(),r'figures',f'{region_select}_CoG_High_Freq_Removal.png'))"
   ],
   "outputs": [],
   "execution_count": null
  },
  {
   "metadata": {},
   "cell_type": "code",
   "source": [
    "peaks_three_df = pd.DataFrame(columns=['frequency','phase'])\n",
    "peaks_three_df['frequency'] = peaks_three[:,0]\n",
    "peaks_three_df['phase'] = peaks_three[:,1]\n",
    "g = sns.JointGrid(data=peaks_three_df, x=\"phase\", y=\"frequency\")\n",
    "g = g.plot_joint(sns.kdeplot)\n",
    "g = g.plot_marginals(sns.kdeplot, fill=True)\n",
    "g.fig.suptitle(\"CoG Gamma Frequency Density Plot of Theta Cycles Low Pass Filter\")\n",
    "g.fig.subplots_adjust(top=0.9)\n",
    "g.savefig(os.path.join(os.getcwd(),r'figures',f'{region_select}_CoG_Low_Pass_Filter.png'))"
   ],
   "outputs": [],
   "execution_count": null
  },
  {
   "metadata": {},
   "cell_type": "code",
   "source": [
    "def find_peaks_bool_array(signals):\n",
    "    \"\"\"\n",
    "    Find all relative maxima in an array of 1D signals and return a boolean array for each signal.\n",
    "\n",
    "    Parameters:\n",
    "    - signals: A 2D numpy array where each row represents a signal.\n",
    "\n",
    "    Returns:\n",
    "    - A 2D boolean array with the same shape as 'signals', where True indicates a peak and False otherwise\n",
    "      for each signal in the input array.\n",
    "    \"\"\"\n",
    "    num_signals, signal_length = signals.shape\n",
    "\n",
    "    # Initialize a 2D boolean array with False values\n",
    "    peaks_bool_array = np.zeros_like(signals, dtype=bool)\n",
    "\n",
    "    for i in range(num_signals):\n",
    "        # Find relative maxima indices using argrelmax for each signal\n",
    "        maxima_indices = signal.argrelmax(signals[i])[0]\n",
    "\n",
    "        # Set the indices of relative maxima to True for the current signal\n",
    "        peaks_bool_array[i, maxima_indices] = True\n",
    "\n",
    "    return peaks_bool_array\n",
    "\n",
    "# Example usage with an array of signals:"
   ],
   "outputs": [],
   "execution_count": null
  },
  {
   "metadata": {},
   "cell_type": "code",
   "source": [
    "freq_signatures_one = find_peaks_bool_array(spectral_signatures_one)*frequencies\n",
    "freq_signatures_two = find_peaks_bool_array(spectral_signatures_two)*frequencies\n",
    "freq_signatures_three = find_peaks_bool_array(spectral_signatures_three)*frequencies\n",
    "\n",
    "freq_signatures_one = freq_signatures_one.flatten()\n",
    "freq_signatures_two = freq_signatures_two.flatten()\n",
    "freq_signatures_three =freq_signatures_three.flatten()\n",
    "\n",
    "freq_signatures_one = freq_signatures_one[freq_signatures_one > 0]\n",
    "freq_signatures_two = freq_signatures_two[freq_signatures_two > 0]\n",
    "freq_signatures_three = freq_signatures_three[freq_signatures_three > 0]"
   ],
   "outputs": [],
   "execution_count": null
  },
  {
   "metadata": {},
   "cell_type": "code",
   "source": [
    "fig1, axes = plt.subplots(1, 3, figsize=(16, 8))  # Adjust the figure size as needed\n",
    "sns.set(style=\"whitegrid\")\n",
    "\n",
    "sns.kdeplot(y=freq_signatures_one, ax=axes[0], fill=True)\n",
    "axes[0].set_ylabel(\"Density\")\n",
    "axes[0].set_title(\"Kernel Density Plot of Frequencies\")\n",
    "\n",
    "sns.kdeplot(y=freq_signatures_two, ax=axes[1], fill=True)\n",
    "axes[1].set_ylabel(\"Density\")\n",
    "axes[1].set_title(\"Kernel Density Plot of Frequencies\")\n",
    "\n",
    "sns.kdeplot(y=freq_signatures_three, ax=axes[2], fill=True)\n",
    "axes[2].set_ylabel(\"Density\")\n",
    "axes[2].set_title(\"Kernel Density Plot of Frequencies\")\n",
    "\n",
    "fig1.suptitle('Kernel Density Plot of Frequencies')\n",
    "\n",
    "# Adjust the spacing between subplots\n",
    "plt.tight_layout()\n",
    "\n",
    "plt.show()"
   ],
   "outputs": [],
   "execution_count": null
  }
 ],
 "metadata": {
  "colab": {
   "name": "load_steinmetz_extra",
   "provenance": [],
   "toc_visible": true
  },
  "kernel": {
   "display_name": "Python 3",
   "language": "python",
   "name": "python3"
  },
  "kernelspec": {
   "display_name": "Python 3 (ipykernel)",
   "name": "python3",
   "language": "python"
  }
 },
 "nbformat": 4,
 "nbformat_minor": 0
}
